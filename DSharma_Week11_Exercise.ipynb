{
 "cells": [
  {
   "cell_type": "code",
   "execution_count": 1,
   "id": "36af27b1-4df0-4d35-a6fd-f328b96e8a73",
   "metadata": {},
   "outputs": [],
   "source": [
    "# Name Dipika Sharma\n",
    "# DSC 530 T301 Data Exploration\n",
    "# Week 11"
   ]
  },
  {
   "cell_type": "markdown",
   "id": "cad76f75-b90d-4ea8-957b-6fc1975f1481",
   "metadata": {},
   "source": [
    "# Assignment 11.2 - (13.1)\n",
    "\n",
    "http://thinkstats2.com\n",
    "\n",
    "Copyright 2016 Allen B. Downey\n",
    "\n",
    "MIT License: https://opensource.org/licenses/MIT"
   ]
  },
  {
   "cell_type": "code",
   "execution_count": 21,
   "id": "037cebe6-e0a1-4bd5-93e4-24c4fdef1e54",
   "metadata": {},
   "outputs": [
    {
     "name": "stdout",
     "output_type": "stream",
     "text": [
      "Downloaded 2006_2010_FemRespSetup.dct\n",
      "Downloaded 2006_2010_FemResp.dat.gz\n"
     ]
    }
   ],
   "source": [
    "from os.path import basename, exists\n",
    "\n",
    "\n",
    "def download(url):\n",
    "    filename = basename(url)\n",
    "    if not exists(filename):\n",
    "        from urllib.request import urlretrieve\n",
    "\n",
    "        local, _ = urlretrieve(url, filename)\n",
    "        print(\"Downloaded \" + local)\n",
    "\n",
    "\n",
    "download(\"https://github.com/AllenDowney/ThinkStats2/raw/master/code/thinkstats2.py\")\n",
    "download(\"https://github.com/AllenDowney/ThinkStats2/raw/master/code/thinkplot.py\")\n",
    "download(\"https://github.com/AllenDowney/ThinkStats2/raw/master/code/mj-clean.csv\")\n",
    "download(\"https://github.com/AllenDowney/ThinkStats2/raw/master/code/2002FemResp.dct\")\n",
    "download(\n",
    "    \"https://github.com/AllenDowney/ThinkStats2/raw/master/code/2002FemResp.dat.gz\"\n",
    ")\n",
    "download(\"https://github.com/AllenDowney/ThinkStats2/raw/master/code/nsfg.py\"\n",
    ")\n",
    "download(\"https://github.com/AllenDowney/ThinkStats2/raw/master/code/survival.py\")\n",
    "download(\n",
    "    \"https://github.com/AllenDowney/ThinkStats2/raw/master/code/2006_2010_FemRespSetup.dct\"\n",
    ")\n",
    "download(\n",
    "    \"https://github.com/AllenDowney/ThinkStats2/raw/master/code/2006_2010_FemResp.dat.gz\"\n",
    ")"
   ]
  },
  {
   "cell_type": "code",
   "execution_count": 22,
   "id": "01b5822f-e568-4a13-8f60-909751485482",
   "metadata": {},
   "outputs": [],
   "source": [
    "import numpy as np\n",
    "import pandas as pd\n",
    "\n",
    "import random\n",
    "\n",
    "import thinkstats2\n",
    "import thinkplot\n",
    "import nsfg\n",
    "import survival"
   ]
  },
  {
   "cell_type": "markdown",
   "id": "1bf40801-a514-4255-bdfa-2a996eb4c814",
   "metadata": {},
   "source": [
    "# Exercise 13.1"
   ]
  },
  {
   "cell_type": "markdown",
   "id": "08895967-00ce-43b2-b555-9193f264c5bb",
   "metadata": {},
   "source": [
    "In NSFG Cycles 6 and 7, the variable cmdivorcx contains\n",
    "the date of divorce for the respondent’s first marriage, if applicable, encoded\n",
    "in century-months.\n",
    "Compute the duration of marriages that have ended in divorce, and the\n",
    "duration, so far, of marriages that are ongoing. Estimate the hazard and\n",
    "survival curve for the duration of marriage.\n",
    "Use resampling to take into account sampling weights, and plot data from\n",
    "several resamples to visualize sampling error.\n",
    "Consider dividing the respondents into groups by decade of birth, and possibly by age at first marriage."
   ]
  },
  {
   "cell_type": "code",
   "execution_count": 25,
   "id": "a19fca96-4525-4077-94c9-3f3d88553476",
   "metadata": {},
   "outputs": [],
   "source": [
    "# Lets read the respondent data.\n",
    "\n",
    "resp6 = survival.ReadFemResp2002()\n",
    "resp7 = survival.ReadFemResp2010()"
   ]
  },
  {
   "cell_type": "code",
   "execution_count": 26,
   "id": "e34ca3a2-f837-4e29-94b3-c7b9b59c1b5a",
   "metadata": {},
   "outputs": [],
   "source": [
    "# Defining the function to cleans the respondent data, this function will take the dataframe, process the dataset with cleaning steps.\n",
    "def CleanData(resp):\n",
    "    \n",
    "    # Read the respondent file and replace invalid values of cmdivorcx\n",
    "    resp.cmdivorcx.replace([9998, 9999], np.nan, inplace=True)\n",
    "    \n",
    "    # Lets compute each respondent’s marriage duration that have ended in divorse, duration so far and not divorsed.\n",
    "    resp[\"notdivorced\"] = resp.cmdivorcx.isnull().astype(int)\n",
    "    resp[\"duration\"] = (resp.cmdivorcx - resp.cmmarrhx) / 12.0\n",
    "    resp[\"durationsofar\"] = (resp.cmintvw - resp.cmmarrhx) / 12.0\n",
    "\n",
    "    month0 = pd.to_datetime(\"1899-12-15\")\n",
    "    dates = [month0 + pd.DateOffset(months=cm) for cm in resp.cmbirth]\n",
    "    resp[\"decade\"] = (pd.DatetimeIndex(dates).year - 1900) // 10"
   ]
  },
  {
   "cell_type": "code",
   "execution_count": 27,
   "id": "e76708b7-1d3b-4731-9c34-edd5cef9eace",
   "metadata": {},
   "outputs": [],
   "source": [
    "# Lets call the cleaning function for respondent 2002 data.\n",
    "# evrmarry is 1 if the respondent had been married prior to the date of interview, 0 otherwise.\n",
    "CleanData(resp6)\n",
    "married6 = resp6[resp6.evrmarry == 1]\n",
    "\n",
    "# Lets call the cleaning function for respondent 2010 data.\n",
    "# evrmarry is 1 if the respondent had been married prior to the date of interview, 0 otherwise.\n",
    "CleanData(resp7)\n",
    "married7 = resp7[resp7.evrmarry == 1]"
   ]
  },
  {
   "cell_type": "code",
   "execution_count": 28,
   "id": "a41383fd-f7b2-4bea-9692-4789a899c929",
   "metadata": {},
   "outputs": [],
   "source": [
    "# Defining function to plot divorse curves on resampling data. This function is taking respondent dataframe list as an input.\n",
    "\n",
    "def ResampleDivorceCurve(resps):\n",
    "\n",
    "    for _ in range(11):\n",
    "        samples = [thinkstats2.ResampleRowsWeighted(resp) for resp in resps]\n",
    "        sample = pd.concat(samples, ignore_index=True)\n",
    "        PlotDivorceCurveByDecade(sample, color=\"#225EA8\", alpha=0.1)\n",
    "\n",
    "    thinkplot.Show(xlabel=\"years\", axis=[0, 28, 0, 1])"
   ]
  },
  {
   "cell_type": "code",
   "execution_count": 29,
   "id": "39cc7372-e290-4701-9542-87d75f0518c8",
   "metadata": {},
   "outputs": [],
   "source": [
    "# Defining function to plot a curve on divorse data for each birth cohort.\n",
    "# resps is an input of the function which is list of respondent dataframe.\n",
    "\n",
    "\n",
    "def ResampleDivorceCurveByDecade(resps):\n",
    "\n",
    "    for i in range(41):\n",
    "        samples = [thinkstats2.ResampleRowsWeighted(resp) for resp in resps]\n",
    "        sample = pd.concat(samples, ignore_index=True)\n",
    "        groups = sample.groupby(\"decade\")\n",
    "        if i == 0:\n",
    "            survival.AddLabelsByDecade(groups, alpha=0.7)\n",
    "\n",
    "        EstimateSurvivalByDecade(groups, alpha=0.1)\n",
    "\n",
    "    thinkplot.Config(xlabel=\"Years\", ylabel=\"Fraction undivorced\", axis=[0, 28, 0, 1])"
   ]
  },
  {
   "cell_type": "code",
   "execution_count": 30,
   "id": "bc4f065b-d3b0-4e73-a10d-e7b8a1241a9d",
   "metadata": {},
   "outputs": [],
   "source": [
    "# Defining the function to plot survival curves of respondent data grouo by decades.\n",
    "\n",
    "\n",
    "def EstimateSurvivalByDecade(groups, **options):\n",
    " \n",
    "    thinkplot.PrePlot(len(groups))\n",
    "    for name, group in groups:\n",
    "        _, sf = EstimateSurvival(group)\n",
    "        thinkplot.Plot(sf, **options)"
   ]
  },
  {
   "cell_type": "code",
   "execution_count": 31,
   "id": "91bcb999-8785-4e97-a5b1-87764b6a55ba",
   "metadata": {},
   "outputs": [],
   "source": [
    "# Defining the function which takes respondent dataframe as an input and estimate the survival curves.\n",
    "# This function will returns the Hazard and survival function.\n",
    "\n",
    "def EstimateSurvival(resp):\n",
    "    # storing the not divorsed and divorsed respondent in different variables.\n",
    "    complete = resp[resp.notdivorced == 0].duration.dropna()\n",
    "    ongoing = resp[resp.notdivorced == 1].durationsofar.dropna()\n",
    "    \n",
    "    # Calculating Hazard function.\n",
    "    hf = survival.EstimateHazardFunction(complete, ongoing)\n",
    "    # Survival function\n",
    "    sf = hf.MakeSurvival()\n",
    "\n",
    "    return hf, sf"
   ]
  },
  {
   "cell_type": "code",
   "execution_count": 33,
   "id": "bbf030c3-33b5-46bb-bdb2-505af9475bb3",
   "metadata": {},
   "outputs": [
    {
     "data": {
      "image/png": "[encoded data removed]",
      "text/plain": [
       "<Figure size 432x288 with 1 Axes>"
      ]
     },
     "metadata": {
      "needs_background": "light"
     },
     "output_type": "display_data"
    }
   ],
   "source": [
    "# Once the data is cleaned let see how the curves comes out for respondent of 2002 and 2010 which are married prior to the date of interview.\n",
    "\n",
    "ResampleDivorceCurveByDecade([married6, married7])"
   ]
  },
  {
   "cell_type": "markdown",
   "id": "34c18246-277b-4b37-8453-fb19843b3d3c",
   "metadata": {},
   "source": [
    "#### Lets check the above Survival curves for respondents born during different decades.\n",
    "#### As we can see the womens born in 50s have completed most years of their marriage and most of them never get divorsed where as the womens who are borns in 80s or 90s have completed only 10 to 15 years of their marriage.\n",
    "#### We also see that womens born in 60s or 70s either completed 22 years of marriage or are still married."
   ]
  },
  {
   "cell_type": "code",
   "execution_count": null,
   "id": "0e62a6a2-f9f0-4561-999e-c019bf131804",
   "metadata": {},
   "outputs": [],
   "source": []
  }
 ],
 "metadata": {
  "kernelspec": {
   "display_name": "Python 3 (ipykernel)",
   "language": "python",
   "name": "python3"
  },
  "language_info": {
   "codemirror_mode": {
    "name": "ipython",
    "version": 3
   },
   "file_extension": ".py",
   "mimetype": "text/x-python",
   "name": "python",
   "nbconvert_exporter": "python",
   "pygments_lexer": "ipython3",
   "version": "3.9.7"
  }
 },
 "nbformat": 4,
 "nbformat_minor": 5
}
